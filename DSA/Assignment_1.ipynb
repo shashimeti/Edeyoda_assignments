{
 "cells": [
  {
   "cell_type": "markdown",
   "metadata": {},
   "source": [
    "Q1. Write a program to find all pairs of an integer array whose sum is equal to a given number?\n"
   ]
  },
  {
   "cell_type": "code",
   "execution_count": 1,
   "metadata": {},
   "outputs": [
    {
     "name": "stdout",
     "output_type": "stream",
     "text": [
      "Pairs with sum 10 are:\n",
      "(8, 2)\n",
      "(3, 7)\n",
      "(6, 4)\n"
     ]
    }
   ],
   "source": [
    "def find_pairs(arr, target_sum):\n",
    "    pairs = []\n",
    "    seen = set()\n",
    "\n",
    "    for num in arr:\n",
    "        complement = target_sum - num\n",
    "        if complement in seen:\n",
    "            pairs.append((num, complement))\n",
    "        seen.add(num)\n",
    "\n",
    "    return pairs\n",
    "\n",
    "# Test the function\n",
    "arr = [4, 5, 7, 2, 8, 3, 6]\n",
    "target_sum = 10\n",
    "pairs = find_pairs(arr, target_sum)\n",
    "\n",
    "print(\"Pairs with sum\", target_sum, \"are:\")\n",
    "for pair in pairs:\n",
    "    print(pair)\n"
   ]
  },
  {
   "cell_type": "markdown",
   "metadata": {},
   "source": [
    "Q2. Write a program to reverse an array in place? In place means you cannot create a new array. You have to update the original array."
   ]
  },
  {
   "cell_type": "code",
   "execution_count": 2,
   "metadata": {},
   "outputs": [
    {
     "name": "stdout",
     "output_type": "stream",
     "text": [
      "Original Array: [1, 2, 3, 4, 5]\n",
      "Reversed Array: [5, 4, 3, 2, 1]\n"
     ]
    }
   ],
   "source": [
    "def reverse_array(arr):\n",
    "    # Initialize pointers\n",
    "    start = 0\n",
    "    end = len(arr) - 1\n",
    "\n",
    "    # Swap elements until start pointer crosses end pointer\n",
    "    while start < end:\n",
    "        # Swap elements at start and end indices\n",
    "        arr[start], arr[end] = arr[end], arr[start]\n",
    "        # Move start pointer forward\n",
    "        start += 1\n",
    "        # Move end pointer backward\n",
    "        end -= 1\n",
    "\n",
    "# Test the function\n",
    "arr = [1, 2, 3, 4, 5]\n",
    "print(\"Original Array:\", arr)\n",
    "reverse_array(arr)\n",
    "print(\"Reversed Array:\", arr)\n"
   ]
  },
  {
   "cell_type": "markdown",
   "metadata": {},
   "source": [
    "Q3. Write a program to check if two strings are a rotation of each other?"
   ]
  },
  {
   "cell_type": "code",
   "execution_count": 3,
   "metadata": {},
   "outputs": [
    {
     "name": "stdout",
     "output_type": "stream",
     "text": [
      "Yes, 'abcde' and 'cdeab' are rotations of each other.\n"
     ]
    }
   ],
   "source": [
    "def are_rotations(str1, str2):\n",
    "    # Check if both strings are of the same length\n",
    "    if len(str1) != len(str2):\n",
    "        return False\n",
    "\n",
    "    # Concatenate str1 with itself\n",
    "    temp = str1 + str1\n",
    "\n",
    "    # Check if str2 is a substring of the concatenated string\n",
    "    if str2 in temp:\n",
    "        return True\n",
    "    else:\n",
    "        return False\n",
    "\n",
    "# Test the function\n",
    "string1 = \"abcde\"\n",
    "string2 = \"cdeab\"\n",
    "\n",
    "if are_rotations(string1, string2):\n",
    "    print(\"Yes, '{}' and '{}' are rotations of each other.\".format(string1, string2))\n",
    "else:\n",
    "    print(\"No, '{}' and '{}' are not rotations of each other.\".format(string1, string2))\n"
   ]
  },
  {
   "cell_type": "markdown",
   "metadata": {},
   "source": [
    "Q4. Write a program to print the first non-repeated character from a string?"
   ]
  },
  {
   "cell_type": "code",
   "execution_count": 4,
   "metadata": {},
   "outputs": [
    {
     "name": "stdout",
     "output_type": "stream",
     "text": [
      "The first non-repeated character in 'aabbccdeeffg' is 'd'.\n"
     ]
    }
   ],
   "source": [
    "def first_non_repeated_char(string):\n",
    "    # Create a dictionary to store the count of each character\n",
    "    char_count = {}\n",
    "\n",
    "    # Count occurrences of each character in the string\n",
    "    for char in string:\n",
    "        if char in char_count:\n",
    "            char_count[char] += 1\n",
    "        else:\n",
    "            char_count[char] = 1\n",
    "\n",
    "    # Iterate through the string again to find the first non-repeated character\n",
    "    for char in string:\n",
    "        if char_count[char] == 1:\n",
    "            return char\n",
    "\n",
    "    # If no non-repeated character found, return None\n",
    "    return None\n",
    "\n",
    "# Test the function\n",
    "string = \"aabbccdeeffg\"\n",
    "result = first_non_repeated_char(string)\n",
    "\n",
    "if result:\n",
    "    print(\"The first non-repeated character in '{}' is '{}'.\".format(string, result))\n",
    "else:\n",
    "    print(\"There is no non-repeated character in '{}'.\".format(string))\n"
   ]
  },
  {
   "cell_type": "markdown",
   "metadata": {},
   "source": [
    "Q5. Read about the Tower of Hanoi algorithm. Write a program to implement it.\n",
    "\n"
   ]
  },
  {
   "cell_type": "code",
   "execution_count": 5,
   "metadata": {},
   "outputs": [
    {
     "name": "stdout",
     "output_type": "stream",
     "text": [
      "Move disk 1 from rod A to rod C\n",
      "Move disk 2 from rod A to rod B\n",
      "Move disk 1 from rod C to rod B\n",
      "Move disk 3 from rod A to rod C\n",
      "Move disk 1 from rod B to rod A\n",
      "Move disk 2 from rod B to rod C\n",
      "Move disk 1 from rod A to rod C\n"
     ]
    }
   ],
   "source": [
    "def tower_of_hanoi(n, source, target, auxiliary):\n",
    "    if n == 1:\n",
    "        print(\"Move disk 1 from rod\", source, \"to rod\", target)\n",
    "        return\n",
    "    tower_of_hanoi(n-1, source, auxiliary, target)\n",
    "    print(\"Move disk\", n, \"from rod\", source, \"to rod\", target)\n",
    "    tower_of_hanoi(n-1, auxiliary, target, source)\n",
    "\n",
    "# Test the function\n",
    "num_disks = 3\n",
    "tower_of_hanoi(num_disks, 'A', 'C', 'B')\n"
   ]
  },
  {
   "cell_type": "markdown",
   "metadata": {},
   "source": [
    "Q6. Read about infix, prefix, and postfix expressions. Write a program to convert postfix to prefix expression."
   ]
  },
  {
   "cell_type": "code",
   "execution_count": 6,
   "metadata": {},
   "outputs": [
    {
     "name": "stdout",
     "output_type": "stream",
     "text": [
      "Postfix Expression: 34+2*\n",
      "Prefix Expression: *+342\n"
     ]
    }
   ],
   "source": [
    "def is_operand(char):\n",
    "    return char.isalpha() or char.isdigit()\n",
    "\n",
    "def postfix_to_prefix(postfix_expr):\n",
    "    stack = []\n",
    "    operators = set(['+', '-', '*', '/'])\n",
    "\n",
    "    for char in postfix_expr:\n",
    "        if is_operand(char):\n",
    "            stack.append(char)\n",
    "        elif char in operators:\n",
    "            operand2 = stack.pop()\n",
    "            operand1 = stack.pop()\n",
    "            prefix_expr = char + operand1 + operand2\n",
    "            stack.append(prefix_expr)\n",
    "\n",
    "    return stack.pop()\n",
    "\n",
    "# Test the function\n",
    "postfix_expr = \"34+2*\"\n",
    "prefix_expr = postfix_to_prefix(postfix_expr)\n",
    "print(\"Postfix Expression:\", postfix_expr)\n",
    "print(\"Prefix Expression:\", prefix_expr)\n"
   ]
  },
  {
   "cell_type": "markdown",
   "metadata": {},
   "source": [
    "Q7. Write a program to convert prefix expression to infix expression."
   ]
  },
  {
   "cell_type": "code",
   "execution_count": 7,
   "metadata": {},
   "outputs": [
    {
     "name": "stdout",
     "output_type": "stream",
     "text": [
      "Prefix Expression: *+AB-CD\n",
      "Infix Expression: ((A+B)*(C-D))\n"
     ]
    }
   ],
   "source": [
    "def is_operator(char):\n",
    "    return char in \"+-*/\"\n",
    "\n",
    "def prefix_to_infix(prefix_expr):\n",
    "    stack = []\n",
    "\n",
    "    for char in reversed(prefix_expr):\n",
    "        if not is_operator(char):\n",
    "            stack.append(char)\n",
    "        else:\n",
    "            operand1 = stack.pop()\n",
    "            operand2 = stack.pop()\n",
    "            infix_expr = \"(\" + operand1 + char + operand2 + \")\"\n",
    "            stack.append(infix_expr)\n",
    "\n",
    "    return stack.pop()\n",
    "\n",
    "# Test the function\n",
    "prefix_expr = \"*+AB-CD\"\n",
    "infix_expr = prefix_to_infix(prefix_expr)\n",
    "print(\"Prefix Expression:\", prefix_expr)\n",
    "print(\"Infix Expression:\", infix_expr)\n"
   ]
  },
  {
   "cell_type": "markdown",
   "metadata": {},
   "source": [
    "Q8. Write a program to check if all the brackets are closed in a given code snippet.\n"
   ]
  },
  {
   "cell_type": "code",
   "execution_count": 8,
   "metadata": {},
   "outputs": [
    {
     "name": "stdout",
     "output_type": "stream",
     "text": [
      "Code snippet 1: Brackets closed\n",
      "Code snippet 2: Brackets not closed\n",
      "Code snippet 3: Brackets closed\n"
     ]
    }
   ],
   "source": [
    "def are_brackets_closed(code_snippet):\n",
    "    stack = []\n",
    "    brackets = {'(': ')', '[': ']', '{': '}'}\n",
    "\n",
    "    for char in code_snippet:\n",
    "        if char in brackets.keys():\n",
    "            stack.append(char)\n",
    "        elif char in brackets.values():\n",
    "            if not stack or brackets[stack.pop()] != char:\n",
    "                return False\n",
    "\n",
    "    return len(stack) == 0\n",
    "\n",
    "# Test the function\n",
    "code_snippet1 = \"{[()()]}\"\n",
    "code_snippet2 = \"{[(])}\"\n",
    "code_snippet3 = \"{{[[(())]]}}\"\n",
    "\n",
    "print(\"Code snippet 1:\", \"Brackets closed\" if are_brackets_closed(code_snippet1) else \"Brackets not closed\")\n",
    "print(\"Code snippet 2:\", \"Brackets closed\" if are_brackets_closed(code_snippet2) else \"Brackets not closed\")\n",
    "print(\"Code snippet 3:\", \"Brackets closed\" if are_brackets_closed(code_snippet3) else \"Brackets not closed\")\n"
   ]
  },
  {
   "cell_type": "markdown",
   "metadata": {},
   "source": [
    "Q9. Write a program to reverse a stack.\n"
   ]
  },
  {
   "cell_type": "code",
   "execution_count": 9,
   "metadata": {},
   "outputs": [
    {
     "name": "stdout",
     "output_type": "stream",
     "text": [
      "Original stack:\n",
      "Stack contents: [1, 2, 3, 4, 5]\n",
      "Reversed stack:\n",
      "Stack contents: [5, 4, 3, 2, 1]\n"
     ]
    }
   ],
   "source": [
    "class Stack:\n",
    "    def __init__(self):\n",
    "        self.items = []\n",
    "\n",
    "    def is_empty(self):\n",
    "        return len(self.items) == 0\n",
    "\n",
    "    def push(self, item):\n",
    "        self.items.append(item)\n",
    "\n",
    "    def pop(self):\n",
    "        if not self.is_empty():\n",
    "            return self.items.pop()\n",
    "        else:\n",
    "            return None\n",
    "\n",
    "    def peek(self):\n",
    "        if not self.is_empty():\n",
    "            return self.items[-1]\n",
    "        else:\n",
    "            return None\n",
    "\n",
    "    def size(self):\n",
    "        return len(self.items)\n",
    "\n",
    "    def reverse(self):\n",
    "        if self.size() > 0:\n",
    "            # Remove the bottom element from the stack\n",
    "            bottom = self.pop()\n",
    "            # Reverse the remaining stack\n",
    "            self.reverse()\n",
    "            # Insert the removed element at the top of the reversed stack\n",
    "            self.__insert_at_bottom(bottom)\n",
    "\n",
    "    def __insert_at_bottom(self, item):\n",
    "        if self.size() == 0:\n",
    "            self.push(item)\n",
    "        else:\n",
    "            # Remove top element from stack\n",
    "            top = self.pop()\n",
    "            # Recursively insert item at bottom\n",
    "            self.__insert_at_bottom(item)\n",
    "            # Push top element back onto stack\n",
    "            self.push(top)\n",
    "\n",
    "    def display(self):\n",
    "        print(\"Stack contents:\", self.items)\n",
    "\n",
    "\n",
    "# Test the program\n",
    "stack = Stack()\n",
    "stack.push(1)\n",
    "stack.push(2)\n",
    "stack.push(3)\n",
    "stack.push(4)\n",
    "stack.push(5)\n",
    "\n",
    "print(\"Original stack:\")\n",
    "stack.display()\n",
    "\n",
    "stack.reverse()\n",
    "\n",
    "print(\"Reversed stack:\")\n",
    "stack.display()\n"
   ]
  },
  {
   "cell_type": "markdown",
   "metadata": {},
   "source": [
    "Q10. Write a program to find the smallest number using a stack.\n"
   ]
  },
  {
   "cell_type": "code",
   "execution_count": 10,
   "metadata": {},
   "outputs": [
    {
     "name": "stdout",
     "output_type": "stream",
     "text": [
      "Minimum element in the stack: 1\n",
      "Minimum element in the stack after popping: 1\n"
     ]
    }
   ],
   "source": [
    "class Stack:\n",
    "    def __init__(self):\n",
    "        self.items = []\n",
    "        self.min_element = None\n",
    "\n",
    "    def is_empty(self):\n",
    "        return len(self.items) == 0\n",
    "\n",
    "    def push(self, item):\n",
    "        if self.is_empty() or item < self.min_element:\n",
    "            self.min_element = item\n",
    "        self.items.append(item)\n",
    "\n",
    "    def pop(self):\n",
    "        if not self.is_empty():\n",
    "            popped_item = self.items.pop()\n",
    "            if popped_item == self.min_element:\n",
    "                if not self.is_empty():\n",
    "                    self.min_element = min(self.items)\n",
    "                else:\n",
    "                    self.min_element = None\n",
    "            return popped_item\n",
    "        else:\n",
    "            return None\n",
    "\n",
    "    def get_min(self):\n",
    "        return self.min_element\n",
    "\n",
    "# Test the program\n",
    "stack = Stack()\n",
    "stack.push(3)\n",
    "stack.push(5)\n",
    "stack.push(1)\n",
    "stack.push(2)\n",
    "stack.push(4)\n",
    "\n",
    "print(\"Minimum element in the stack:\", stack.get_min())  # Output: 1\n",
    "\n",
    "stack.pop()  # Remove 4\n",
    "stack.pop()  # Remove 2\n",
    "\n",
    "print(\"Minimum element in the stack after popping:\", stack.get_min())  # Output: 1\n"
   ]
  },
  {
   "cell_type": "code",
   "execution_count": null,
   "metadata": {},
   "outputs": [],
   "source": []
  }
 ],
 "metadata": {
  "kernelspec": {
   "display_name": "Python 3",
   "language": "python",
   "name": "python3"
  },
  "language_info": {
   "codemirror_mode": {
    "name": "ipython",
    "version": 3
   },
   "file_extension": ".py",
   "mimetype": "text/x-python",
   "name": "python",
   "nbconvert_exporter": "python",
   "pygments_lexer": "ipython3",
   "version": "3.11.5"
  }
 },
 "nbformat": 4,
 "nbformat_minor": 2
}
