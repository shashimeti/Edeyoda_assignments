{
 "cells": [
  {
   "cell_type": "markdown",
   "metadata": {},
   "source": [
    "Write a Python program to create a lambda function that adds 25 to a given number passed in as an argument.\n",
    "\n",
    "sample input: 10\n",
    "\n",
    "sample output: 35"
   ]
  },
  {
   "cell_type": "code",
   "execution_count": 11,
   "metadata": {},
   "outputs": [
    {
     "name": "stdout",
     "output_type": "stream",
     "text": [
      "Input Number: 10\n",
      "Result after adding 25: 35\n"
     ]
    }
   ],
   "source": [
    "input_number = 10\n",
    "\n",
    "add_25 = lambda x: x + 25\n",
    "\n",
    "result = add_25(input_number)\n",
    "\n",
    "# Display the result\n",
    "print(\"Input Number:\", input_number)\n",
    "print(\"Result after adding 25:\", result)\n"
   ]
  },
  {
   "cell_type": "code",
   "execution_count": null,
   "metadata": {},
   "outputs": [],
   "source": []
  }
 ],
 "metadata": {
  "kernelspec": {
   "display_name": "Python 3",
   "language": "python",
   "name": "python3"
  },
  "language_info": {
   "codemirror_mode": {
    "name": "ipython",
    "version": 3
   },
   "file_extension": ".py",
   "mimetype": "text/x-python",
   "name": "python",
   "nbconvert_exporter": "python",
   "pygments_lexer": "ipython3",
   "version": "3.11.5"
  }
 },
 "nbformat": 4,
 "nbformat_minor": 2
}
