{
 "cells": [
  {
   "cell_type": "markdown",
   "metadata": {},
   "source": [
    " The user will have the following functionalities: ⬅️\n",
    "\n",
    "👉 1. Register on the application. Following to be entered for registration:\n",
    "        🔴 Full Name\n",
    "        🔴 Phone Number\n",
    "        🔴 Email\n",
    "        🔴 Address\n",
    "        🔴 Password\n",
    "\n",
    "👉 2. Log in to the application\n",
    "\n",
    "👉 3. The user will see 3 options:\n",
    "        🔴 Place New Order\n",
    "        🔴 Order History\n",
    "        🔴 Update Profile\n",
    "\n",
    "👉 4. Place New Order: The user can place a new order at the restaurant.\n",
    "        🔵 Show list of food. The list item should as follows:\n",
    "            🔴 Tandoori Chicken (4 pieces) [INR 240]\n",
    "            🔴 Vegan Burger (1 Piece) [INR 320]\n",
    "            🔴 Truffle Cake (500gm) [INR 900]\n",
    "\n",
    "👉 5. Users should be able to select food by entering an array of numbers. For example, if the user wants to order Vegan Burger and Truffle Cake they should enter [2, 3]\n",
    "\n",
    "👉 6. Once the items are selected user should see the list of all the items selected. The user will also get an option to place an order.\n",
    "\n",
    "👉 7. Order History should show a list of all the previous orders\n",
    "\n",
    "👉 8. Update Profile: the user should be able to update their profile."
   ]
  },
  {
   "cell_type": "code",
   "execution_count": 1,
   "metadata": {},
   "outputs": [
    {
     "name": "stdout",
     "output_type": "stream",
     "text": [
      "Order placed successfully.\n",
      "Order History:\n",
      "Order 1: ['Vegan Burger (1 Piece) [INR 320]', 'Truffle Cake (500gm) [INR 900]']\n",
      "Profile updated successfully.\n",
      "Updated Profile:\n",
      "Full Name: Jane Doe\n",
      "Phone Number: 9876543210\n",
      "Email: john@example.com\n",
      "Address: 456, New Street, City\n",
      "Password: password123\n"
     ]
    }
   ],
   "source": [
    "class User:\n",
    "    def __init__(self, full_name, phone_number, email, address, password):\n",
    "        self.full_name = full_name\n",
    "        self.phone_number = phone_number\n",
    "        self.email = email\n",
    "        self.address = address\n",
    "        self.password = password\n",
    "        self.order_history = []\n",
    "\n",
    "    def place_new_order(self, food_items):\n",
    "        self.order_history.append(food_items)\n",
    "        print(\"Order placed successfully.\")\n",
    "\n",
    "    def view_order_history(self):\n",
    "        print(\"Order History:\")\n",
    "        for idx, order in enumerate(self.order_history, 1):\n",
    "            print(f\"Order {idx}: {order}\")\n",
    "\n",
    "    def update_profile(self, full_name=None, phone_number=None, email=None, address=None, password=None):\n",
    "        if full_name:\n",
    "            self.full_name = full_name\n",
    "        if phone_number:\n",
    "            self.phone_number = phone_number\n",
    "        if email:\n",
    "            self.email = email\n",
    "        if address:\n",
    "            self.address = address\n",
    "        if password:\n",
    "            self.password = password\n",
    "        print(\"Profile updated successfully.\")\n",
    "\n",
    "\n",
    "# Sample usage\n",
    "user = User(\"John Doe\", \"1234567890\", \"john@example.com\", \"123, Street Name, City\", \"password123\")\n",
    "\n",
    "# Placing new order\n",
    "food_list = [\"Tandoori Chicken (4 pieces) [INR 240]\", \"Vegan Burger (1 Piece) [INR 320]\", \"Truffle Cake (500gm) [INR 900]\"]\n",
    "user.place_new_order([\"Vegan Burger (1 Piece) [INR 320]\", \"Truffle Cake (500gm) [INR 900]\"])\n",
    "\n",
    "# Viewing order history\n",
    "user.view_order_history()\n",
    "\n",
    "# Updating profile\n",
    "user.update_profile(full_name=\"Jane Doe\", phone_number=\"9876543210\", address=\"456, New Street, City\")\n",
    "\n",
    "# Viewing updated profile\n",
    "print(\"Updated Profile:\")\n",
    "print(\"Full Name:\", user.full_name)\n",
    "print(\"Phone Number:\", user.phone_number)\n",
    "print(\"Email:\", user.email)\n",
    "print(\"Address:\", user.address)\n",
    "print(\"Password:\", user.password)\n"
   ]
  },
  {
   "cell_type": "code",
   "execution_count": null,
   "metadata": {},
   "outputs": [],
   "source": []
  }
 ],
 "metadata": {
  "kernelspec": {
   "display_name": "Python 3",
   "language": "python",
   "name": "python3"
  },
  "language_info": {
   "codemirror_mode": {
    "name": "ipython",
    "version": 3
   },
   "file_extension": ".py",
   "mimetype": "text/x-python",
   "name": "python",
   "nbconvert_exporter": "python",
   "pygments_lexer": "ipython3",
   "version": "3.11.5"
  }
 },
 "nbformat": 4,
 "nbformat_minor": 2
}
