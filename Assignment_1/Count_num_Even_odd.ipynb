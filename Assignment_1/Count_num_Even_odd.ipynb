{
 "cells": [
  {
   "cell_type": "code",
   "execution_count": 5,
   "metadata": {},
   "outputs": [
    {
     "name": "stdout",
     "output_type": "stream",
     "text": [
      "Number of Even number: 4\n",
      "Number of odd numbers: 5\n"
     ]
    }
   ],
   "source": [
    "numbers =  (1, 2, 3, 4, 5, 6, 7, 8, 9)\n",
    "Even_count = 0\n",
    "Odd_count = 0\n",
    "\n",
    "for i in numbers:\n",
    "    \n",
    "    if i % 2 == 0 :\n",
    "        Even_count+=1\n",
    "    else:\n",
    "        Odd_count+=1\n",
    "\n",
    "print(f\"Number of Even number: {Even_count}\")\n",
    "print(f\"Number of odd numbers: {Odd_count}\")"
   ]
  },
  {
   "cell_type": "code",
   "execution_count": null,
   "metadata": {},
   "outputs": [],
   "source": []
  }
 ],
 "metadata": {
  "kernelspec": {
   "display_name": "Python 3",
   "language": "python",
   "name": "python3"
  },
  "language_info": {
   "codemirror_mode": {
    "name": "ipython",
    "version": 3
   },
   "file_extension": ".py",
   "mimetype": "text/x-python",
   "name": "python",
   "nbconvert_exporter": "python",
   "pygments_lexer": "ipython3",
   "version": "3.11.5"
  }
 },
 "nbformat": 4,
 "nbformat_minor": 2
}
