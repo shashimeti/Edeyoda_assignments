{
 "cells": [
  {
   "cell_type": "markdown",
   "metadata": {},
   "source": [
    "Challenge 1: Square Numbers and Return Their Sum\n",
    "🔴 In this challenge, you need to implement a method that squares passing variables and returns their sum.\n",
    "\n",
    "Problem statement: Implement a class Point that has three properties and a method. All these attributes (properties and methods) should be public. This problem can be broken down into two tasks:\n",
    "\n",
    "Task 1: 👉 Implement a constructor to initialize the values of three properties: x, y, and z.\n",
    "\n",
    "Task 2: 👉 Implement a method, sqSum(), in the Point class which squares x, y, and z and returns their sum.\n",
    "\n",
    "Sample properties 1, 3, 5\n",
    "\n",
    "Sample method output 35"
   ]
  },
  {
   "cell_type": "code",
   "execution_count": 17,
   "metadata": {},
   "outputs": [
    {
     "name": "stdout",
     "output_type": "stream",
     "text": [
      "sum of Square is: 35\n"
     ]
    }
   ],
   "source": [
    "class Point:\n",
    "\n",
    "    def __init__(self,x,y,z):\n",
    "        self.x = x\n",
    "        self.y = y\n",
    "        self.z = z\n",
    "\n",
    "    def sqSum(self):\n",
    "        u = self.x**2\n",
    "        v = self.y**2\n",
    "        z = self.z**2\n",
    "        return u+v+z\n",
    "\n",
    "sum = Point(1,3,5)\n",
    "res = sum.sqSum()\n",
    "print(f\"sum of Square is: {res}\")\n",
    "\n",
    "\n"
   ]
  },
  {
   "cell_type": "code",
   "execution_count": null,
   "metadata": {},
   "outputs": [],
   "source": []
  }
 ],
 "metadata": {
  "kernelspec": {
   "display_name": "Python 3",
   "language": "python",
   "name": "python3"
  },
  "language_info": {
   "codemirror_mode": {
    "name": "ipython",
    "version": 3
   },
   "file_extension": ".py",
   "mimetype": "text/x-python",
   "name": "python",
   "nbconvert_exporter": "python",
   "pygments_lexer": "ipython3",
   "version": "3.11.5"
  }
 },
 "nbformat": 4,
 "nbformat_minor": 2
}
