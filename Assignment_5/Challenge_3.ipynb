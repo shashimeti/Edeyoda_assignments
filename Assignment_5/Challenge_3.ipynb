{
 "cells": [
  {
   "cell_type": "markdown",
   "metadata": {},
   "source": [
    "Challenge 3: Implement the Complete Student Class\n",
    "\n",
    "🔴In this challenge, you will implement a student class\n",
    "\n",
    "Problem statement\n",
    "\n",
    "Implement the complete Student class by completing the tasks below\n",
    "\n",
    "Task\n",
    "\n",
    "👉 Implement the following properties as private:\n",
    "\n",
    "• name\n",
    "• rollNumber\n",
    "\n",
    "👉 Include the following methods to get and set the private properties above:\n",
    "\n",
    "• getName()\n",
    "• setName()\n",
    "• getRollNumber()\n",
    "• setRollNumber()\n",
    "\n",
    "👉 Implement this class according to the rules of encapsulation.\n",
    "\n",
    "Input - Checking all the properties and methods\n",
    "\n",
    "Output - Expecting perfectly defined fields and getter/setters\n",
    "\n",
    "Note: Do not use initializers to initialize the properties. Use the set methods to do so.\n",
    "\n",
    "If the setter is not defined properly, the corresponding getter will also generate an error even if the getter is defined properly."
   ]
  },
  {
   "cell_type": "code",
   "execution_count": 1,
   "metadata": {},
   "outputs": [
    {
     "name": "stdout",
     "output_type": "stream",
     "text": [
      "Name:  Shashi\n",
      "Roll Number:  112255\n"
     ]
    }
   ],
   "source": [
    "class Student:\n",
    "\n",
    "    def __init__(self) -> None:\n",
    "        self.__name = \"\"\n",
    "        self.__rollnumber = \"\"\n",
    "\n",
    "    def setName(self,name):\n",
    "        self.__name = name\n",
    "        \n",
    "    def getName(self):\n",
    "        return self.__name\n",
    "    \n",
    "    def setRollNumber(self,rollnumber):\n",
    "        self.__rollnumber = rollnumber\n",
    "    \n",
    "    def getRollNumber(self):\n",
    "        return self.__rollnumber\n",
    "    \n",
    "st = Student()\n",
    "\n",
    "st.setName(\"Shashi\")\n",
    "st.setRollNumber(\"112255\")\n",
    "\n",
    "print(\"Name: \",st.getName())\n",
    "print(\"Roll Number: \",st.getRollNumber())"
   ]
  },
  {
   "cell_type": "code",
   "execution_count": null,
   "metadata": {},
   "outputs": [],
   "source": []
  }
 ],
 "metadata": {
  "kernelspec": {
   "display_name": "Python 3",
   "language": "python",
   "name": "python3"
  },
  "language_info": {
   "codemirror_mode": {
    "name": "ipython",
    "version": 3
   },
   "file_extension": ".py",
   "mimetype": "text/x-python",
   "name": "python",
   "nbconvert_exporter": "python",
   "pygments_lexer": "ipython3",
   "version": "3.11.5"
  }
 },
 "nbformat": 4,
 "nbformat_minor": 2
}
