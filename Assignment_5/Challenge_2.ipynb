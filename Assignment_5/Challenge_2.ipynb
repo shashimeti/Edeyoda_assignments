{
 "cells": [
  {
   "cell_type": "markdown",
   "metadata": {},
   "source": [
    "Challenge 2: Implement a Calculator Class\n",
    "\n",
    "In this exercise, you have to implement a calculator that can perform addition, subtraction, multiplication, and division.\n",
    "\n",
    "Problem statement Write a Python class called Calculator by completing the tasks below:\n",
    "\n",
    "Task 1\n",
    "\n",
    "👉 Initializer\n",
    "\n",
    "Implement an initializer to initialize the values of num1 and num2. Properties\n",
    "\n",
    "• num1\n",
    "• num2\n",
    "\n",
    "Task 2\n",
    "\n",
    "👉 Methods\n",
    "\n",
    "• add() is a method that returns the sum of num1 and num2.\n",
    "• subtract() is a method that returns the subtraction of num1 from num2.\n",
    "• multiply() is a method that returns the product of num1 and num2.\n",
    "• divide() is a method that returns the division of num2 by num1.\n",
    "Input - Pass numbers (integers or floats) in the initializer.\n",
    "\n",
    "Output - addition, subtraction, division, and multiplication\n",
    "\n",
    "Sample input"
   ]
  },
  {
   "cell_type": "code",
   "execution_count": 3,
   "metadata": {},
   "outputs": [
    {
     "name": "stdout",
     "output_type": "stream",
     "text": [
      "Addition of number:  104\n",
      "Subtraction of the number:  84\n",
      "Multiplication of the number:  940\n",
      "Division of the number:  9.4\n"
     ]
    }
   ],
   "source": [
    "class calculator:\n",
    "\n",
    "    def __init__(self,num1,num2) -> None:\n",
    "        self.num1 = num1\n",
    "        self.num2 = num2\n",
    "\n",
    "    def add(self):\n",
    "        return self.num1 + self.num2\n",
    "    \n",
    "    def subtract(self):\n",
    "        return self.num2 - self.num1\n",
    "    \n",
    "    def multiply(self):\n",
    "        return self.num1 * self.num2\n",
    "    \n",
    "    def divide(self):\n",
    "        return self.num2/self.num1\n",
    "    \n",
    "calc = calculator(10,94)\n",
    "print(\"Addition of number: \",calc.add())\n",
    "print(\"Subtraction of the number: \",calc.subtract())\n",
    "print(\"Multiplication of the number: \",calc.multiply())\n",
    "print(\"Division of the number: \",calc.divide())\n",
    "            "
   ]
  },
  {
   "cell_type": "code",
   "execution_count": null,
   "metadata": {},
   "outputs": [],
   "source": []
  }
 ],
 "metadata": {
  "kernelspec": {
   "display_name": "Python 3",
   "language": "python",
   "name": "python3"
  },
  "language_info": {
   "codemirror_mode": {
    "name": "ipython",
    "version": 3
   },
   "file_extension": ".py",
   "mimetype": "text/x-python",
   "name": "python",
   "nbconvert_exporter": "python",
   "pygments_lexer": "ipython3",
   "version": "3.11.5"
  }
 },
 "nbformat": 4,
 "nbformat_minor": 2
}
