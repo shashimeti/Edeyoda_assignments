{
 "cells": [
  {
   "cell_type": "markdown",
   "metadata": {},
   "source": [
    "Challenge 4: Implement a Banking Account\n",
    "\n",
    "In this challenge, you will implement a banking account using the concepts of inheritance.\n",
    "Problem statement\n",
    "\n",
    "Implement the basic structure of a parent class, Account, and a child class, SavingsAccount.\n",
    "\n",
    "Task 1\n",
    "\n",
    "👉 Implement properties as instance variables, and set them to None or 0.\n",
    "\n",
    "Account has the following properties:\n",
    "\n",
    "    • title\n",
    "    • Balance\n",
    "\n",
    "SavingsAccount has the following properties:\n",
    "\n",
    "    • interestRate\n",
    "    \n",
    "Task 2\n",
    "\n",
    "Create an initializer for Account class. The order of parameters should be the following, where Ashish is the title, and 5000 is the account balance:\n",
    "\n",
    "Account(\"Ashish\", 5000)\n",
    "\n",
    "Task 3\n",
    "\n",
    "Implement properties as instance variables, and set them to None or 0.\n",
    "\n",
    "Create an initializer for the SavingsAccount class using the initializer of the Account class in the order below:\n",
    "\n",
    "Account(\"Ashish\", 5000, 5)\n",
    "\n",
    "Here, Ashish is the title and 5000 is the balance and 5 is the interestRate."
   ]
  },
  {
   "cell_type": "code",
   "execution_count": 4,
   "metadata": {},
   "outputs": [
    {
     "name": "stdout",
     "output_type": "stream",
     "text": [
      "Account title:  Ashish\n",
      "Account Balance:  5000\n",
      "Savings Account title:  Ashish\n",
      "Savings Account Balance:  5000\n",
      "Savings Account Interest Rate:  5\n"
     ]
    }
   ],
   "source": [
    "class Account:\n",
    "\n",
    "    def __init__(self,title,balance):\n",
    "        # write your code here\n",
    "        self.title = title\n",
    "        self.balance = balance\n",
    "\n",
    "class SavingsAccount(Account):\n",
    "\n",
    "    def __init__(self,title,balance,interestRate):\n",
    "        # write your code here\n",
    "        super().__init__(title,balance)\n",
    "        self.interestRate = interestRate\n",
    "\n",
    "acc = Account(\"Ashish\",5000)\n",
    "print(\"Account title: \",acc.title)\n",
    "print(\"Account Balance: \",acc.balance)\n",
    "\n",
    "sa = SavingsAccount(\"Ashish\",5000,5)\n",
    "print(\"Savings Account title: \",sa.title)\n",
    "print(\"Savings Account Balance: \",sa.balance)\n",
    "print(\"Savings Account Interest Rate: \",sa.interestRate)"
   ]
  },
  {
   "cell_type": "code",
   "execution_count": null,
   "metadata": {},
   "outputs": [],
   "source": []
  }
 ],
 "metadata": {
  "kernelspec": {
   "display_name": "Python 3",
   "language": "python",
   "name": "python3"
  },
  "language_info": {
   "codemirror_mode": {
    "name": "ipython",
    "version": 3
   },
   "file_extension": ".py",
   "mimetype": "text/x-python",
   "name": "python",
   "nbconvert_exporter": "python",
   "pygments_lexer": "ipython3",
   "version": "3.11.5"
  }
 },
 "nbformat": 4,
 "nbformat_minor": 2
}
