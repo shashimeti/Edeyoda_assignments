{
 "cells": [
  {
   "cell_type": "markdown",
   "metadata": {},
   "source": [
    "👉 1. Create a JSON file (employee.json) containing employee information of minimum 5 employees. Each employee information consists of Name, DOB, Height, City, State. Write a python program that reads this information from the JSON file and saves the information into a list of objects of Employee class. Finally print the list of the Employee objects.\n",
    "\n",
    "👉 2. Create a dictionary of any 7 Indian states and their capitals. Write this into a JSON file."
   ]
  },
  {
   "cell_type": "code",
   "execution_count": 2,
   "metadata": {},
   "outputs": [
    {
     "name": "stdout",
     "output_type": "stream",
     "text": [
      "Name: John\n",
      "DOB: 1990-05-15\n",
      "Height: 175\n",
      "City: Mumbai\n",
      "State: Maharashtra\n",
      "\n",
      "Name: Alice\n",
      "DOB: 1985-08-20\n",
      "Height: 160\n",
      "City: Delhi\n",
      "State: Delhi\n",
      "\n",
      "Name: Bob\n",
      "DOB: 1992-03-10\n",
      "Height: 180\n",
      "City: Bangalore\n",
      "State: Karnataka\n",
      "\n",
      "Name: Emily\n",
      "DOB: 1988-12-25\n",
      "Height: 168\n",
      "City: Kolkata\n",
      "State: West Bengal\n",
      "\n",
      "Name: Mike\n",
      "DOB: 1995-06-30\n",
      "Height: 172\n",
      "City: Chennai\n",
      "State: Tamil Nadu\n",
      "\n",
      "Dictionary of Indian states and capitals written to indian_states.json\n"
     ]
    }
   ],
   "source": [
    "import json\n",
    "\n",
    "# Define the Employee class\n",
    "class Employee:\n",
    "    def __init__(self, name, dob, height, city, state):\n",
    "        self.name = name\n",
    "        self.dob = dob\n",
    "        self.height = height\n",
    "        self.city = city\n",
    "        self.state = state\n",
    "\n",
    "# Read data from employee.json and create Employee objects\n",
    "with open('employee.json', 'r') as file:\n",
    "    data = json.load(file)\n",
    "\n",
    "# Create a list of Employee objects\n",
    "employee_list = []\n",
    "for emp_data in data:\n",
    "    employee = Employee(emp_data['Name'], emp_data['DOB'], emp_data['Height'], emp_data['City'], emp_data['State'])\n",
    "    employee_list.append(employee)\n",
    "\n",
    "# Print the list of Employee objects\n",
    "for employee in employee_list:\n",
    "    print(\"Name:\", employee.name)\n",
    "    print(\"DOB:\", employee.dob)\n",
    "    print(\"Height:\", employee.height)\n",
    "    print(\"City:\", employee.city)\n",
    "    print(\"State:\", employee.state)\n",
    "    print()\n",
    "\n",
    "\n",
    "# Dictionary of Indian states and capitals\n",
    "indian_states = {\n",
    "    \"Maharashtra\": \"Mumbai\",\n",
    "    \"Delhi\": \"New Delhi\",\n",
    "    \"Karnataka\": \"Bangalore\",\n",
    "    \"West Bengal\": \"Kolkata\",\n",
    "    \"Tamil Nadu\": \"Chennai\",\n",
    "    \"Uttar Pradesh\": \"Lucknow\",\n",
    "    \"Rajasthan\": \"Jaipur\"\n",
    "}\n",
    "\n",
    "# Write the dictionary into a JSON file\n",
    "with open('indian_states.json', 'w') as file:\n",
    "    json.dump(indian_states, file, indent=4)\n",
    "\n",
    "print(\"Dictionary of Indian states and capitals written to indian_states.json\")\n"
   ]
  },
  {
   "cell_type": "code",
   "execution_count": null,
   "metadata": {},
   "outputs": [],
   "source": []
  }
 ],
 "metadata": {
  "kernelspec": {
   "display_name": "Python 3",
   "language": "python",
   "name": "python3"
  },
  "language_info": {
   "codemirror_mode": {
    "name": "ipython",
    "version": 3
   },
   "file_extension": ".py",
   "mimetype": "text/x-python",
   "name": "python",
   "nbconvert_exporter": "python",
   "pygments_lexer": "ipython3",
   "version": "3.11.5"
  }
 },
 "nbformat": 4,
 "nbformat_minor": 2
}
