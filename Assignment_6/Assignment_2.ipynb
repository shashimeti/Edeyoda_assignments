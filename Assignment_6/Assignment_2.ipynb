{
 "cells": [
  {
   "cell_type": "markdown",
   "metadata": {},
   "source": [
    " 1. Create a class named ‘Dog’. It should have a constructor which accepts its name, age and coat color. You must perform the following operations:\n",
    "\n",
    "🔴 a. It should have a function ‘description()’ which prints the name and age of the dog.\n",
    "🔴 b. It should have a function ‘get_info()’ which prints the coat color of the dog.\n",
    "🔴 c. Create child classes ‘JackRussellTerrier’ and ‘Bulldog’ which is inherited from the class ‘Dog’. It should have at least two methods of its own.\n",
    "🔴 d. Create objects and implement the above functionalities."
   ]
  },
  {
   "cell_type": "code",
   "execution_count": 2,
   "metadata": {},
   "outputs": [
    {
     "name": "stdout",
     "output_type": "stream",
     "text": [
      "The dog's name is Buddy and it is 3 years old.\n",
      "The dog's coat color is White and brown.\n",
      "The Jack Russell Terrier is barking.\n",
      "The dog's name is Max and it is 5 years old.\n",
      "The dog's coat color is Fawn.\n",
      "The Bulldog is running.\n",
      "The Bulldog is sleeping.\n"
     ]
    }
   ],
   "source": [
    "class Dog:\n",
    "    def __init__(self, name, age, coat_color):\n",
    "        self.name = name\n",
    "        self.age = age\n",
    "        self.coat_color = coat_color\n",
    "\n",
    "    def description(self):\n",
    "        print(f\"The dog's name is {self.name} and it is {self.age} years old.\")\n",
    "\n",
    "    def get_info(self):\n",
    "        print(f\"The dog's coat color is {self.coat_color}.\")\n",
    "\n",
    "\n",
    "class JackRussellTerrier(Dog):\n",
    "    def __init__(self, name, age, coat_color):\n",
    "        super().__init__(name, age, coat_color)\n",
    "\n",
    "    def bark(self):\n",
    "        print(\"The Jack Russell Terrier is barking.\")\n",
    "\n",
    "\n",
    "class Bulldog(Dog):\n",
    "    def __init__(self, name, age, coat_color):\n",
    "        super().__init__(name, age, coat_color)\n",
    "\n",
    "    def run(self):\n",
    "        print(\"The Bulldog is running.\")\n",
    "\n",
    "    def sleep(self):\n",
    "        print(\"The Bulldog is sleeping.\")\n",
    "\n",
    "\n",
    "# Creating objects and implementing functionalities\n",
    "dog1 = JackRussellTerrier(\"Buddy\", 3, \"White and brown\")\n",
    "dog2 = Bulldog(\"Max\", 5, \"Fawn\")\n",
    "\n",
    "# Using inherited methods\n",
    "dog1.description()\n",
    "dog1.get_info()\n",
    "dog1.bark()\n",
    "\n",
    "dog2.description()\n",
    "dog2.get_info()\n",
    "dog2.run()\n",
    "dog2.sleep()\n"
   ]
  },
  {
   "cell_type": "code",
   "execution_count": null,
   "metadata": {},
   "outputs": [],
   "source": []
  }
 ],
 "metadata": {
  "kernelspec": {
   "display_name": "Python 3",
   "language": "python",
   "name": "python3"
  },
  "language_info": {
   "codemirror_mode": {
    "name": "ipython",
    "version": 3
   },
   "file_extension": ".py",
   "mimetype": "text/x-python",
   "name": "python",
   "nbconvert_exporter": "python",
   "pygments_lexer": "ipython3",
   "version": "3.11.5"
  }
 },
 "nbformat": 4,
 "nbformat_minor": 2
}
