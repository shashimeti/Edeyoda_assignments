{
 "cells": [
  {
   "cell_type": "markdown",
   "metadata": {},
   "source": [
    "Write a Python function to sum all the numbers in a list."
   ]
  },
  {
   "cell_type": "code",
   "execution_count": 16,
   "metadata": {},
   "outputs": [
    {
     "name": "stdout",
     "output_type": "stream",
     "text": [
      "Sum of numbers: 20\n"
     ]
    }
   ],
   "source": [
    "def sum_of_all_num(*num):\n",
    "    add = sum(num)\n",
    "    return add\n",
    "\n",
    "\n",
    "result = sum_of_all_num(8,2,3,0,7)\n",
    "print(\"Sum of numbers:\", result)"
   ]
  },
  {
   "cell_type": "code",
   "execution_count": 12,
   "metadata": {},
   "outputs": [
    {
     "name": "stdout",
     "output_type": "stream",
     "text": [
      "Sum of numbers: 20\n"
     ]
    }
   ],
   "source": [
    "def sum_numbers(number_list):\n",
    "    total_sum = 0\n",
    "    \n",
    "    for number in number_list:\n",
    "        total_sum += number\n",
    "    \n",
    "    return total_sum\n",
    "\n",
    "input_numbers = [8,2,3,0,7]\n",
    "result = sum_numbers(input_numbers)\n",
    "print(\"Sum of numbers:\", result)"
   ]
  },
  {
   "cell_type": "code",
   "execution_count": null,
   "metadata": {},
   "outputs": [],
   "source": []
  }
 ],
 "metadata": {
  "kernelspec": {
   "display_name": "Python 3",
   "language": "python",
   "name": "python3"
  },
  "language_info": {
   "codemirror_mode": {
    "name": "ipython",
    "version": 3
   },
   "file_extension": ".py",
   "mimetype": "text/x-python",
   "name": "python",
   "nbconvert_exporter": "python",
   "pygments_lexer": "ipython3",
   "version": "3.11.5"
  }
 },
 "nbformat": 4,
 "nbformat_minor": 2
}
