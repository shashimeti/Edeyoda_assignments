{
 "cells": [
  {
   "cell_type": "markdown",
   "metadata": {},
   "source": [
    "Write a Python function that accepts a string and calculate the number of upper case letters and lower case letters."
   ]
  },
  {
   "cell_type": "code",
   "execution_count": 5,
   "metadata": {},
   "outputs": [
    {
     "name": "stdout",
     "output_type": "stream",
     "text": [
      "Count if Upper case: 3\n",
      "Count of Lower strig: 12\n"
     ]
    }
   ],
   "source": [
    "def calc_strings(string):\n",
    "    upper_case = 0\n",
    "    lower_case = 0\n",
    "\n",
    "    for i in string:\n",
    "        \n",
    "        if i.isupper():\n",
    "            upper_case +=1\n",
    "        elif i.islower():\n",
    "            lower_case +=1\n",
    "\n",
    "\n",
    "    return upper_case,lower_case\n",
    "\n",
    "user_input = input(\"Enter the string: \")\n",
    "upper,lower = calc_strings(user_input)\n",
    "print(f\"Count if Upper case: {upper}\\nCount of Lower strig: {lower}\")"
   ]
  },
  {
   "cell_type": "code",
   "execution_count": null,
   "metadata": {},
   "outputs": [],
   "source": []
  }
 ],
 "metadata": {
  "kernelspec": {
   "display_name": "Python 3",
   "language": "python",
   "name": "python3"
  },
  "language_info": {
   "codemirror_mode": {
    "name": "ipython",
    "version": 3
   },
   "file_extension": ".py",
   "mimetype": "text/x-python",
   "name": "python",
   "nbconvert_exporter": "python",
   "pygments_lexer": "ipython3",
   "version": "3.11.5"
  }
 },
 "nbformat": 4,
 "nbformat_minor": 2
}
